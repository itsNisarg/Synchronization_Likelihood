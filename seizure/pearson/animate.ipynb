{
 "cells": [
  {
   "cell_type": "code",
   "execution_count": 9,
   "metadata": {},
   "outputs": [],
   "source": [
    "import matplotlib.pyplot as plt\n",
    "from scipy.io import savemat, loadmat\n",
    "from joblib import Parallel, delayed, cpu_count"
   ]
  },
  {
   "cell_type": "code",
   "execution_count": 10,
   "metadata": {},
   "outputs": [],
   "source": [
    "from IPython.display import HTML\n",
    "import matplotlib.pyplot as plt\n",
    "import matplotlib.animation as animation\n",
    "import numpy as np"
   ]
  },
  {
   "cell_type": "code",
   "execution_count": 6,
   "metadata": {},
   "outputs": [],
   "source": [
    "def fun(data, fname):\n",
    "    fig, ax = plt.subplots()\n",
    "\n",
    "    # ax.set_xlim((0, 23))\n",
    "    # ax.set_ylim((0, 23))\n",
    "\n",
    "    ax.set_xticks(range(23))\n",
    "    ax.set_yticks(range(23))\n",
    "\n",
    "    im = ax.imshow(data[0,:,:], vmin=-1, vmax=1, cmap='jet')\n",
    "\n",
    "    def init():\n",
    "        im.set_data(data[0,:,:])\n",
    "        plt.colorbar()\n",
    "        return (im,)\n",
    "\n",
    "    # animation function. This is called sequentially\n",
    "    def animate(i):\n",
    "        data_slice = data[i,:,:]\n",
    "        im.set_data(data_slice)\n",
    "        plt.colorbar()\n",
    "        return (im,)\n",
    "\n",
    "    # call the animator. blit=True means only re-draw the parts that have changed.\n",
    "    anim = animation.FuncAnimation(fig, animate, init_func=init,\n",
    "                                frames=len(data), interval=100)\n",
    "\n",
    "    writervideo = animation.FFMpegWriter(fps=60) \n",
    "    anim.save(fname+'.mp4', writer=writervideo) \n",
    "    # HTML(anim.to_html5_video())"
   ]
  },
  {
   "cell_type": "code",
   "execution_count": 20,
   "metadata": {},
   "outputs": [],
   "source": [
    "DFC = loadmat(\"pearson.mat\")['data']\n",
    "DFC4 = loadmat(\"pearson4.mat\")['data']\n",
    "DFC5 = loadmat(\"pearson5.mat\")['data']\n",
    "DFC6 = loadmat(\"pearson6.mat\")['data']\n",
    "DFC7 = loadmat(\"pearson7.mat\")['data']\n",
    "DFC8 = loadmat(\"pearson8.mat\")['data']"
   ]
  },
  {
   "cell_type": "code",
   "execution_count": 21,
   "metadata": {},
   "outputs": [],
   "source": [
    "Parallel(n_jobs=6)(delayed(fun)(data, fname) for data, fname in zip([DFC, DFC4, DFC5, DFC6, DFC7, DFC8], ['DFC', 'DFC4', \"DFC5\", \"DFC6\", \"DFC7\", \"DFC8\"]))"
   ]
  },
  {
   "cell_type": "code",
   "execution_count": null,
   "metadata": {},
   "outputs": [],
   "source": [
    "DFC5[0]"
   ]
  }
 ],
 "metadata": {
  "kernelspec": {
   "display_name": "Python 3",
   "language": "python",
   "name": "python3"
  },
  "language_info": {
   "codemirror_mode": {
    "name": "ipython",
    "version": 3
   },
   "file_extension": ".py",
   "mimetype": "text/x-python",
   "name": "python",
   "nbconvert_exporter": "python",
   "pygments_lexer": "ipython3",
   "version": "3.11.4"
  }
 },
 "nbformat": 4,
 "nbformat_minor": 2
}
